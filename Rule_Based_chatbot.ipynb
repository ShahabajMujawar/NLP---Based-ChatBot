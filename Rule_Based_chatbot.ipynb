{
 "cells": [
  {
   "cell_type": "code",
   "execution_count": 1,
   "id": "1a35862c",
   "metadata": {},
   "outputs": [],
   "source": [
    "# mapping intents with a list of keywords\n",
    "# keys - intents , keywords - lists of values\n",
    "intents = {\n",
    "    \"greeting\" :['hi','hello','good morning'],\n",
    "    \"time\" :['working','hours','long','time'],\n",
    "    \"closing\" : ['bye','see you']\n",
    "}"
   ]
  },
  {
   "cell_type": "code",
   "execution_count": 2,
   "id": "eb3983b2",
   "metadata": {},
   "outputs": [],
   "source": [
    "import random\n",
    "# we are taking this for selection for random selection"
   ]
  },
  {
   "cell_type": "code",
   "execution_count": 3,
   "id": "6f50335d",
   "metadata": {},
   "outputs": [],
   "source": [
    "responses = {\n",
    "    \"greeting\" : ['hey , i am a chatbot','shahabaj mujawar'],\n",
    "    \"time\" : ['I can works from 9 am to 9 pm'],\n",
    "    \"closing\" : ['Bye ! have a good day']\n",
    "}"
   ]
  },
  {
   "cell_type": "code",
   "execution_count": null,
   "id": "8bd019d5",
   "metadata": {},
   "outputs": [
    {
     "name": "stdout",
     "output_type": "stream",
     "text": [
      "CHARTBOT\n",
      "hi\n",
      "CHATBOT : hey , i am a chatbot\n",
      "CHARTBOT\n",
      "working\n",
      "CHATBOT : I can works from 9 am to 9 pm\n",
      "CHARTBOT\n"
     ]
    }
   ],
   "source": [
    "while True:\n",
    "    print(\"CHARTBOT\")\n",
    "    q = input() #HI\n",
    "    q = q.lower() #hi\n",
    "    selected_intent = ''\n",
    "    for intent , keywords in intents.items():\n",
    "        if q in keywords:\n",
    "            selected_intent += intent\n",
    "            break\n",
    "    print(\"CHATBOT :\",random.choice(responses[selected_intent]))"
   ]
  },
  {
   "cell_type": "code",
   "execution_count": null,
   "id": "cfb371c6",
   "metadata": {},
   "outputs": [],
   "source": []
  }
 ],
 "metadata": {
  "kernelspec": {
   "display_name": "Python 3 (ipykernel)",
   "language": "python",
   "name": "python3"
  },
  "language_info": {
   "codemirror_mode": {
    "name": "ipython",
    "version": 3
   },
   "file_extension": ".py",
   "mimetype": "text/x-python",
   "name": "python",
   "nbconvert_exporter": "python",
   "pygments_lexer": "ipython3",
   "version": "3.9.13"
  }
 },
 "nbformat": 4,
 "nbformat_minor": 5
}
